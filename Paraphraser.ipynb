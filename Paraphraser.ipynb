{
  "nbformat": 4,
  "nbformat_minor": 0,
  "metadata": {
    "colab": {
      "provenance": [],
      "authorship_tag": "ABX9TyMS4iUA8PclqMoqBOXJu5Ex",
      "include_colab_link": true
    },
    "kernelspec": {
      "name": "python3",
      "display_name": "Python 3"
    },
    "language_info": {
      "name": "python"
    },
    "accelerator": "GPU",
    "gpuClass": "standard"
  },
  "cells": [
    {
      "cell_type": "markdown",
      "metadata": {
        "id": "view-in-github",
        "colab_type": "text"
      },
      "source": [
        "<a href=\"https://colab.research.google.com/github/abelthomasbabu/myprojects/blob/main/Paraphraser.ipynb\" target=\"_parent\"><img src=\"https://colab.research.google.com/assets/colab-badge.svg\" alt=\"Open In Colab\"/></a>"
      ]
    },
    {
      "cell_type": "code",
      "execution_count": 23,
      "metadata": {
        "colab": {
          "base_uri": "https://localhost:8080/"
        },
        "id": "oIYNusTpN83e",
        "outputId": "29e0a6c3-ec60-40d8-9085-aebed1403f86"
      },
      "outputs": [
        {
          "output_type": "stream",
          "name": "stdout",
          "text": [
            "Looking in indexes: https://pypi.org/simple, https://us-python.pkg.dev/colab-wheels/public/simple/\n",
            "Requirement already satisfied: sentence-splitter in /usr/local/lib/python3.7/dist-packages (1.4)\n",
            "Requirement already satisfied: regex>=2017.12.12 in /usr/local/lib/python3.7/dist-packages (from sentence-splitter) (2022.6.2)\n",
            "Looking in indexes: https://pypi.org/simple, https://us-python.pkg.dev/colab-wheels/public/simple/\n",
            "Requirement already satisfied: transformers in /usr/local/lib/python3.7/dist-packages (4.23.1)\n",
            "Requirement already satisfied: tokenizers!=0.11.3,<0.14,>=0.11.1 in /usr/local/lib/python3.7/dist-packages (from transformers) (0.13.1)\n",
            "Requirement already satisfied: requests in /usr/local/lib/python3.7/dist-packages (from transformers) (2.23.0)\n",
            "Requirement already satisfied: regex!=2019.12.17 in /usr/local/lib/python3.7/dist-packages (from transformers) (2022.6.2)\n",
            "Requirement already satisfied: tqdm>=4.27 in /usr/local/lib/python3.7/dist-packages (from transformers) (4.64.1)\n",
            "Requirement already satisfied: pyyaml>=5.1 in /usr/local/lib/python3.7/dist-packages (from transformers) (6.0)\n",
            "Requirement already satisfied: importlib-metadata in /usr/local/lib/python3.7/dist-packages (from transformers) (4.13.0)\n",
            "Requirement already satisfied: filelock in /usr/local/lib/python3.7/dist-packages (from transformers) (3.8.0)\n",
            "Requirement already satisfied: packaging>=20.0 in /usr/local/lib/python3.7/dist-packages (from transformers) (21.3)\n",
            "Requirement already satisfied: huggingface-hub<1.0,>=0.10.0 in /usr/local/lib/python3.7/dist-packages (from transformers) (0.10.1)\n",
            "Requirement already satisfied: numpy>=1.17 in /usr/local/lib/python3.7/dist-packages (from transformers) (1.21.6)\n",
            "Requirement already satisfied: typing-extensions>=3.7.4.3 in /usr/local/lib/python3.7/dist-packages (from huggingface-hub<1.0,>=0.10.0->transformers) (4.1.1)\n",
            "Requirement already satisfied: pyparsing!=3.0.5,>=2.0.2 in /usr/local/lib/python3.7/dist-packages (from packaging>=20.0->transformers) (3.0.9)\n",
            "Requirement already satisfied: zipp>=0.5 in /usr/local/lib/python3.7/dist-packages (from importlib-metadata->transformers) (3.9.0)\n",
            "Requirement already satisfied: urllib3!=1.25.0,!=1.25.1,<1.26,>=1.21.1 in /usr/local/lib/python3.7/dist-packages (from requests->transformers) (1.24.3)\n",
            "Requirement already satisfied: idna<3,>=2.5 in /usr/local/lib/python3.7/dist-packages (from requests->transformers) (2.10)\n",
            "Requirement already satisfied: certifi>=2017.4.17 in /usr/local/lib/python3.7/dist-packages (from requests->transformers) (2022.9.24)\n",
            "Requirement already satisfied: chardet<4,>=3.0.2 in /usr/local/lib/python3.7/dist-packages (from requests->transformers) (3.0.4)\n",
            "Looking in indexes: https://pypi.org/simple, https://us-python.pkg.dev/colab-wheels/public/simple/\n",
            "Requirement already satisfied: SentencePiece in /usr/local/lib/python3.7/dist-packages (0.1.97)\n"
          ]
        }
      ],
      "source": [
        "!pip install sentence-splitter\n",
        "!pip install transformers\n",
        "!pip install SentencePiece\n"
      ]
    },
    {
      "cell_type": "code",
      "source": [
        "#importing the PEGASUS Transformer model\n",
        "import torch\n",
        "from transformers import PegasusForConditionalGeneration, PegasusTokenizer\n",
        " \n",
        "model_name = 'tuner007/pegasus_paraphrase'\n",
        "torch_device = 'cuda' if torch.cuda.is_available() else 'cpu'\n",
        "tokenizer = PegasusTokenizer.from_pretrained(model_name)\n",
        "model = PegasusForConditionalGeneration.from_pretrained(model_name).to(torch_device)\n",
        " \n",
        "#setting up the model\n",
        "def get_response(input_text,num_return_sequences):\n",
        "  batch = tokenizer.prepare_seq2seq_batch([input_text],truncation=True,padding='longest',max_length=60, return_tensors=\"pt\").to(torch_device)\n",
        "  translated = model.generate(**batch,max_length=60,num_beams=10, num_return_sequences=num_return_sequences, temperature=1.5)\n",
        "  tgt_text = tokenizer.batch_decode(translated, skip_special_tokens=True)\n",
        "  return tgt_text"
      ],
      "metadata": {
        "id": "RWTjJW8oORR4"
      },
      "execution_count": 24,
      "outputs": []
    },
    {
      "cell_type": "code",
      "source": [
        "context = \"Python is a programming language with many characteristics, such as an intuitive syntax and powerful data structures, which can lead to efficient code. It's no wonder that this, as well as experienced developers, are benefitting. Programmers use Python for different tasks. Some use it as their primary language because it is concise and easy to read. Others include it in their toolkit because of its impressive batteries (libraries) that are available for pursuing practically any task imaginable. In this guide we will explore: - What is Python used for? - The History of Python - How to install Python - How to write Python code\"\n",
        " \n",
        "get_response(context,5)"
      ],
      "metadata": {
        "colab": {
          "base_uri": "https://localhost:8080/"
        },
        "id": "cZbtf2jbPXi2",
        "outputId": "ddb7c37a-568c-4105-ab85-59bd6f2d3384"
      },
      "execution_count": 25,
      "outputs": [
        {
          "output_type": "execute_result",
          "data": {
            "text/plain": [
              "['Python is a programming language with many characteristics, such as an intuitive syntax and powerful data structures, which can lead to efficient code.',\n",
              " 'Python is a programming language with many characteristics, which can lead to efficient code.',\n",
              " 'Python is a programming language with many characteristics, such as an intuitive syntax and powerful data structures which can lead to efficient code.',\n",
              " 'Python is a programming language with many characteristics, such as an intuitive syntax and powerful data structures.',\n",
              " \"It's no wonder that experienced developers are benefiting from the many characteristics of Python.\"]"
            ]
          },
          "metadata": {},
          "execution_count": 25
        }
      ]
    },
    {
      "cell_type": "code",
      "source": [
        "\n",
        "from sentence_splitter import SentenceSplitter, split_text_into_sentences\n",
        " \n",
        "splitter = SentenceSplitter(language='en')\n",
        " \n",
        "sentence_list = splitter.split(context)\n",
        "sentence_list"
      ],
      "metadata": {
        "colab": {
          "base_uri": "https://localhost:8080/"
        },
        "id": "Zt_oJBhNQgYn",
        "outputId": "7f93d5f4-c0c1-4054-df81-d50f48f5e023"
      },
      "execution_count": 26,
      "outputs": [
        {
          "output_type": "execute_result",
          "data": {
            "text/plain": [
              "['Python is a programming language with many characteristics, such as an intuitive syntax and powerful data structures, which can lead to efficient code.',\n",
              " \"It's no wonder that this, as well as experienced developers, are benefitting.\",\n",
              " 'Programmers use Python for different tasks.',\n",
              " 'Some use it as their primary language because it is concise and easy to read.',\n",
              " 'Others include it in their toolkit because of its impressive batteries (libraries) that are available for pursuing practically any task imaginable.',\n",
              " 'In this guide we will explore: - What is Python used for? - The History of Python - How to install Python - How to write Python code']"
            ]
          },
          "metadata": {},
          "execution_count": 26
        }
      ]
    },
    {
      "cell_type": "code",
      "source": [
        "paraphrase = []\n",
        " \n",
        "for i in sentence_list:\n",
        "  a = get_response(i,1)\n",
        "  paraphrase.append(a)\n",
        "\n",
        "\n",
        "paraphrase"
      ],
      "metadata": {
        "colab": {
          "base_uri": "https://localhost:8080/"
        },
        "id": "cu9vTjZhRn64",
        "outputId": "77946539-8af8-4ebc-cd26-ed120cbd54fd"
      },
      "execution_count": 27,
      "outputs": [
        {
          "output_type": "execute_result",
          "data": {
            "text/plain": [
              "[['Python is a programming language with many characteristics, such as an intuitive syntax and powerful data structures, which can lead to efficient code.'],\n",
              " ['This, as well as experienced developers, are benefiting.'],\n",
              " ['Python is used by programmers for different tasks.'],\n",
              " ['It is easy to read and some people use it as their primary language.'],\n",
              " ['Other people include it in their toolkit because of its impressive batteries.'],\n",
              " ['What is Python used for?, how to install Python, and how to write Python code are some of the topics we will explore in this guide.']]"
            ]
          },
          "metadata": {},
          "execution_count": 27
        }
      ]
    },
    {
      "cell_type": "code",
      "source": [
        "\n",
        "paraphrase2 = [' '.join(x) for x in paraphrase]\n",
        "paraphrase2"
      ],
      "metadata": {
        "colab": {
          "base_uri": "https://localhost:8080/"
        },
        "id": "7ThAWOi2RyeF",
        "outputId": "f5c4c083-7a08-4615-f475-0f9c63346ef4"
      },
      "execution_count": 28,
      "outputs": [
        {
          "output_type": "execute_result",
          "data": {
            "text/plain": [
              "['Python is a programming language with many characteristics, such as an intuitive syntax and powerful data structures, which can lead to efficient code.',\n",
              " 'This, as well as experienced developers, are benefiting.',\n",
              " 'Python is used by programmers for different tasks.',\n",
              " 'It is easy to read and some people use it as their primary language.',\n",
              " 'Other people include it in their toolkit because of its impressive batteries.',\n",
              " 'What is Python used for?, how to install Python, and how to write Python code are some of the topics we will explore in this guide.']"
            ]
          },
          "metadata": {},
          "execution_count": 28
        }
      ]
    },
    {
      "cell_type": "code",
      "source": [
        "\n",
        "paraphrase3 = [' '.join(x for x in paraphrase2) ]\n",
        "paraphrased_text = str(paraphrase3).strip('[]').strip(\"'\")\n",
        "paraphrased_text"
      ],
      "metadata": {
        "colab": {
          "base_uri": "https://localhost:8080/",
          "height": 70
        },
        "id": "TirdwMOpR20V",
        "outputId": "cb9a9723-2044-4ca9-f15a-2ac673bebf2f"
      },
      "execution_count": 29,
      "outputs": [
        {
          "output_type": "execute_result",
          "data": {
            "text/plain": [
              "'Python is a programming language with many characteristics, such as an intuitive syntax and powerful data structures, which can lead to efficient code. This, as well as experienced developers, are benefiting. Python is used by programmers for different tasks. It is easy to read and some people use it as their primary language. Other people include it in their toolkit because of its impressive batteries. What is Python used for?, how to install Python, and how to write Python code are some of the topics we will explore in this guide.'"
            ],
            "application/vnd.google.colaboratory.intrinsic+json": {
              "type": "string"
            }
          },
          "metadata": {},
          "execution_count": 29
        }
      ]
    },
    {
      "cell_type": "code",
      "source": [
        "\n",
        " \n",
        "print(context)\n",
        "print(paraphrased_text)"
      ],
      "metadata": {
        "colab": {
          "base_uri": "https://localhost:8080/"
        },
        "id": "M4hjevzjR-EI",
        "outputId": "29d25ae3-470f-4123-c7b1-f6916942ca89"
      },
      "execution_count": 30,
      "outputs": [
        {
          "output_type": "stream",
          "name": "stdout",
          "text": [
            "Python is a programming language with many characteristics, such as an intuitive syntax and powerful data structures, which can lead to efficient code. It's no wonder that this, as well as experienced developers, are benefitting. Programmers use Python for different tasks. Some use it as their primary language because it is concise and easy to read. Others include it in their toolkit because of its impressive batteries (libraries) that are available for pursuing practically any task imaginable. In this guide we will explore: - What is Python used for? - The History of Python - How to install Python - How to write Python code\n",
            "Python is a programming language with many characteristics, such as an intuitive syntax and powerful data structures, which can lead to efficient code. This, as well as experienced developers, are benefiting. Python is used by programmers for different tasks. It is easy to read and some people use it as their primary language. Other people include it in their toolkit because of its impressive batteries. What is Python used for?, how to install Python, and how to write Python code are some of the topics we will explore in this guide.\n"
          ]
        }
      ]
    }
  ]
}